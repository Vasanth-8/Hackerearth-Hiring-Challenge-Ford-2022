{
 "cells": [
  {
   "cell_type": "markdown",
   "id": "caaaeb49",
   "metadata": {},
   "source": [
    "# HackerEarth Hack OverFlow Ford Data Scientist & Analytics modeler Hiring challenge _oct-nov-2022"
   ]
  },
  {
   "cell_type": "markdown",
   "id": "824840cc",
   "metadata": {},
   "source": [
    "Used **Naive Bayes** algorithm"
   ]
  },
  {
   "cell_type": "code",
   "execution_count": 1,
   "id": "18257a49",
   "metadata": {},
   "outputs": [],
   "source": [
    "import pandas as pd\n",
    "from bs4 import BeautifulSoup as bs\n",
    "\n",
    "from sklearn.feature_extraction.text import CountVectorizer,TfidfTransformer\n",
    "\n",
    "from sklearn.naive_bayes import MultinomialNB\n",
    "\n",
    "from sklearn.metrics import f1_score"
   ]
  },
  {
   "cell_type": "code",
   "execution_count": 2,
   "id": "9b4f46da",
   "metadata": {},
   "outputs": [],
   "source": [
    "# reading csv files\n",
    "train_csv=pd.read_csv('dataset\\\\train.csv')\n",
    "test_csv=pd.read_csv('dataset\\\\test.csv')"
   ]
  },
  {
   "cell_type": "code",
   "execution_count": 3,
   "id": "1c3b3eb8",
   "metadata": {},
   "outputs": [],
   "source": [
    "# function to extracting required text from .html files\n",
    "def read_file(fname):\n",
    "    file=open(fname,'r',encoding='utf-8').read()\n",
    "    z=bs(file,'html.parser').find_all('p')[5].text\n",
    "    return z"
   ]
  },
  {
   "cell_type": "code",
   "execution_count": 4,
   "id": "74565a11",
   "metadata": {},
   "outputs": [],
   "source": [
    "train_path='dataset\\\\train\\\\'\n",
    "train_text=list(map(read_file,train_path+train_csv['File_Name']))"
   ]
  },
  {
   "cell_type": "code",
   "execution_count": 5,
   "id": "edeafc81",
   "metadata": {},
   "outputs": [],
   "source": [
    "test_path='dataset\\\\test\\\\'\n",
    "test_text=list(map(read_file,test_path+test_csv['File_Name']))"
   ]
  },
  {
   "cell_type": "code",
   "execution_count": 6,
   "id": "8d4004a5",
   "metadata": {},
   "outputs": [
    {
     "name": "stdout",
     "output_type": "stream",
     "text": [
      "(13452, 2)\n"
     ]
    },
    {
     "data": {
      "text/html": [
       "<div>\n",
       "<style scoped>\n",
       "    .dataframe tbody tr th:only-of-type {\n",
       "        vertical-align: middle;\n",
       "    }\n",
       "\n",
       "    .dataframe tbody tr th {\n",
       "        vertical-align: top;\n",
       "    }\n",
       "\n",
       "    .dataframe thead th {\n",
       "        text-align: right;\n",
       "    }\n",
       "</style>\n",
       "<table border=\"1\" class=\"dataframe\">\n",
       "  <thead>\n",
       "    <tr style=\"text-align: right;\">\n",
       "      <th></th>\n",
       "      <th>File_Name</th>\n",
       "      <th>Product</th>\n",
       "    </tr>\n",
       "  </thead>\n",
       "  <tbody>\n",
       "    <tr>\n",
       "      <th>13447</th>\n",
       "      <td>PROJ0x31d9.html</td>\n",
       "      <td>Organicfood</td>\n",
       "    </tr>\n",
       "    <tr>\n",
       "      <th>13448</th>\n",
       "      <td>PROJ0x28b3.html</td>\n",
       "      <td>Organicfood</td>\n",
       "    </tr>\n",
       "    <tr>\n",
       "      <th>13449</th>\n",
       "      <td>PROJ0x7b3.html</td>\n",
       "      <td>Kids toys</td>\n",
       "    </tr>\n",
       "    <tr>\n",
       "      <th>13450</th>\n",
       "      <td>PROJ0x2cee.html</td>\n",
       "      <td>Bike</td>\n",
       "    </tr>\n",
       "    <tr>\n",
       "      <th>13451</th>\n",
       "      <td>PROJ0x574d.html</td>\n",
       "      <td>charcoal</td>\n",
       "    </tr>\n",
       "  </tbody>\n",
       "</table>\n",
       "</div>"
      ],
      "text/plain": [
       "             File_Name      Product\n",
       "13447  PROJ0x31d9.html  Organicfood\n",
       "13448  PROJ0x28b3.html  Organicfood\n",
       "13449   PROJ0x7b3.html    Kids toys\n",
       "13450  PROJ0x2cee.html         Bike\n",
       "13451  PROJ0x574d.html     charcoal"
      ]
     },
     "execution_count": 6,
     "metadata": {},
     "output_type": "execute_result"
    }
   ],
   "source": [
    "print(train_csv.shape)\n",
    "train_csv.tail()"
   ]
  },
  {
   "cell_type": "code",
   "execution_count": 7,
   "id": "bbcc8746",
   "metadata": {},
   "outputs": [
    {
     "name": "stdout",
     "output_type": "stream",
     "text": [
      "(2375, 1)\n"
     ]
    },
    {
     "data": {
      "text/html": [
       "<div>\n",
       "<style scoped>\n",
       "    .dataframe tbody tr th:only-of-type {\n",
       "        vertical-align: middle;\n",
       "    }\n",
       "\n",
       "    .dataframe tbody tr th {\n",
       "        vertical-align: top;\n",
       "    }\n",
       "\n",
       "    .dataframe thead th {\n",
       "        text-align: right;\n",
       "    }\n",
       "</style>\n",
       "<table border=\"1\" class=\"dataframe\">\n",
       "  <thead>\n",
       "    <tr style=\"text-align: right;\">\n",
       "      <th></th>\n",
       "      <th>File_Name</th>\n",
       "    </tr>\n",
       "  </thead>\n",
       "  <tbody>\n",
       "    <tr>\n",
       "      <th>2370</th>\n",
       "      <td>PROJ0x50cc.html</td>\n",
       "    </tr>\n",
       "    <tr>\n",
       "      <th>2371</th>\n",
       "      <td>PROJ0x6d19.html</td>\n",
       "    </tr>\n",
       "    <tr>\n",
       "      <th>2372</th>\n",
       "      <td>PROJ0x8972.html</td>\n",
       "    </tr>\n",
       "    <tr>\n",
       "      <th>2373</th>\n",
       "      <td>PROJ0x6ad2.html</td>\n",
       "    </tr>\n",
       "    <tr>\n",
       "      <th>2374</th>\n",
       "      <td>PROJ0x5565.html</td>\n",
       "    </tr>\n",
       "  </tbody>\n",
       "</table>\n",
       "</div>"
      ],
      "text/plain": [
       "            File_Name\n",
       "2370  PROJ0x50cc.html\n",
       "2371  PROJ0x6d19.html\n",
       "2372  PROJ0x8972.html\n",
       "2373  PROJ0x6ad2.html\n",
       "2374  PROJ0x5565.html"
      ]
     },
     "execution_count": 7,
     "metadata": {},
     "output_type": "execute_result"
    }
   ],
   "source": [
    "print(test_csv.shape)\n",
    "test_csv.tail()"
   ]
  },
  {
   "cell_type": "code",
   "execution_count": 8,
   "id": "c13aa7f8",
   "metadata": {},
   "outputs": [
    {
     "name": "stdout",
     "output_type": "stream",
     "text": [
      "['AI' 'Truck' 'Bike' ... 'Kids toys' 'Bike' 'charcoal']\n"
     ]
    }
   ],
   "source": [
    "#training the model\n",
    "cv=CountVectorizer(ngram_range=(2,2))\n",
    "train_vector=cv.fit_transform(train_text)\n",
    "tfidf=TfidfTransformer()\n",
    "train_x=tfidf.fit_transform(train_vector)\n",
    "\n",
    "train_y=train_csv['Product'].values\n",
    "model=MultinomialNB(alpha=0.1).fit(train_x,train_y)\n",
    "\n",
    "predicted=model.predict(train_x)\n",
    "print(predicted)"
   ]
  },
  {
   "cell_type": "code",
   "execution_count": 9,
   "id": "bc3874da",
   "metadata": {},
   "outputs": [
    {
     "name": "stdout",
     "output_type": "stream",
     "text": [
      "82.89611551259127\n"
     ]
    }
   ],
   "source": [
    "#calculating f1 score\n",
    "f1=100*f1_score(train_y,predicted,average='weighted')\n",
    "print(f1)"
   ]
  },
  {
   "cell_type": "code",
   "execution_count": 10,
   "id": "277a0c54",
   "metadata": {
    "scrolled": true
   },
   "outputs": [
    {
     "name": "stdout",
     "output_type": "stream",
     "text": [
      "['Gaming hardware' 'charcoal' 'Kids toys' ... 'Gaming hardware'\n",
      " 'Kids toys' 'charcoal']\n"
     ]
    }
   ],
   "source": [
    "## testing with test csv\n",
    "\n",
    "test_vector=cv.transform(test_text)\n",
    "test_x=tfidf.transform(test_vector)\n",
    "op=model.predict(test_x)\n",
    "print(op)"
   ]
  },
  {
   "cell_type": "code",
   "execution_count": 11,
   "id": "926f9bc9",
   "metadata": {},
   "outputs": [
    {
     "name": "stdout",
     "output_type": "stream",
     "text": [
      "(2375, 2)\n"
     ]
    },
    {
     "data": {
      "text/html": [
       "<div>\n",
       "<style scoped>\n",
       "    .dataframe tbody tr th:only-of-type {\n",
       "        vertical-align: middle;\n",
       "    }\n",
       "\n",
       "    .dataframe tbody tr th {\n",
       "        vertical-align: top;\n",
       "    }\n",
       "\n",
       "    .dataframe thead th {\n",
       "        text-align: right;\n",
       "    }\n",
       "</style>\n",
       "<table border=\"1\" class=\"dataframe\">\n",
       "  <thead>\n",
       "    <tr style=\"text-align: right;\">\n",
       "      <th></th>\n",
       "      <th>File_Name</th>\n",
       "      <th>Product</th>\n",
       "    </tr>\n",
       "  </thead>\n",
       "  <tbody>\n",
       "    <tr>\n",
       "      <th>0</th>\n",
       "      <td>PROJ0x6c6.html</td>\n",
       "      <td>Gaming hardware</td>\n",
       "    </tr>\n",
       "    <tr>\n",
       "      <th>1</th>\n",
       "      <td>PROJ0x6606.html</td>\n",
       "      <td>charcoal</td>\n",
       "    </tr>\n",
       "    <tr>\n",
       "      <th>2</th>\n",
       "      <td>PROJ0x86d0.html</td>\n",
       "      <td>Kids toys</td>\n",
       "    </tr>\n",
       "    <tr>\n",
       "      <th>3</th>\n",
       "      <td>PROJ0x93b4.html</td>\n",
       "      <td>Organicfood</td>\n",
       "    </tr>\n",
       "    <tr>\n",
       "      <th>4</th>\n",
       "      <td>PROJ0x2cd6.html</td>\n",
       "      <td>Medical devices</td>\n",
       "    </tr>\n",
       "    <tr>\n",
       "      <th>...</th>\n",
       "      <td>...</td>\n",
       "      <td>...</td>\n",
       "    </tr>\n",
       "    <tr>\n",
       "      <th>2370</th>\n",
       "      <td>PROJ0x50cc.html</td>\n",
       "      <td>Gaming hardware</td>\n",
       "    </tr>\n",
       "    <tr>\n",
       "      <th>2371</th>\n",
       "      <td>PROJ0x6d19.html</td>\n",
       "      <td>Bike</td>\n",
       "    </tr>\n",
       "    <tr>\n",
       "      <th>2372</th>\n",
       "      <td>PROJ0x8972.html</td>\n",
       "      <td>Gaming hardware</td>\n",
       "    </tr>\n",
       "    <tr>\n",
       "      <th>2373</th>\n",
       "      <td>PROJ0x6ad2.html</td>\n",
       "      <td>Kids toys</td>\n",
       "    </tr>\n",
       "    <tr>\n",
       "      <th>2374</th>\n",
       "      <td>PROJ0x5565.html</td>\n",
       "      <td>charcoal</td>\n",
       "    </tr>\n",
       "  </tbody>\n",
       "</table>\n",
       "<p>2375 rows × 2 columns</p>\n",
       "</div>"
      ],
      "text/plain": [
       "            File_Name          Product\n",
       "0      PROJ0x6c6.html  Gaming hardware\n",
       "1     PROJ0x6606.html         charcoal\n",
       "2     PROJ0x86d0.html        Kids toys\n",
       "3     PROJ0x93b4.html      Organicfood\n",
       "4     PROJ0x2cd6.html  Medical devices\n",
       "...               ...              ...\n",
       "2370  PROJ0x50cc.html  Gaming hardware\n",
       "2371  PROJ0x6d19.html             Bike\n",
       "2372  PROJ0x8972.html  Gaming hardware\n",
       "2373  PROJ0x6ad2.html        Kids toys\n",
       "2374  PROJ0x5565.html         charcoal\n",
       "\n",
       "[2375 rows x 2 columns]"
      ]
     },
     "execution_count": 11,
     "metadata": {},
     "output_type": "execute_result"
    }
   ],
   "source": [
    "op_df=test_csv.assign(Product=op)\n",
    "print(op_df.shape)\n",
    "op_df"
   ]
  },
  {
   "cell_type": "code",
   "execution_count": 12,
   "id": "5050fa97",
   "metadata": {},
   "outputs": [],
   "source": [
    "op_df.to_csv(\"Submission.csv\",index=False)"
   ]
  }
 ],
 "metadata": {
  "kernelspec": {
   "display_name": "Python 3 (ipykernel)",
   "language": "python",
   "name": "python3"
  },
  "language_info": {
   "codemirror_mode": {
    "name": "ipython",
    "version": 3
   },
   "file_extension": ".py",
   "mimetype": "text/x-python",
   "name": "python",
   "nbconvert_exporter": "python",
   "pygments_lexer": "ipython3",
   "version": "3.10.4"
  }
 },
 "nbformat": 4,
 "nbformat_minor": 5
}
